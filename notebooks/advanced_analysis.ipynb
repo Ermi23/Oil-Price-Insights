{
 "cells": [
  {
   "cell_type": "markdown",
   "metadata": {},
   "source": [
    "# Task 2: Advanced Analysis of Brent Oil Prices\n",
    "\n",
    "In this notebook, we will apply advanced statistical and econometric models to analyze the historical Brent oil prices dataset. Building upon our previous insights, we aim to identify patterns, understand how various factors influence oil prices, and examine potential models for accurate forecasting. This analysis includes:\n",
    "\n",
    "- Advanced time series modeling (VAR, regime-switching models)\n",
    "- Economic indicators and their relationship with oil prices\n",
    "- LSTM-based models for detecting patterns in the data"
   ]
  },
  {
   "cell_type": "code",
   "execution_count": null,
   "metadata": {},
   "outputs": [],
   "source": [
    "# Importing essential libraries for Task 2 analysis\n",
    "import pandas as pd\n",
    "import numpy as np\n",
    "import matplotlib.pyplot as plt\n",
    "import seaborn as sns\n",
    "from statsmodels.tsa.api import VAR\n",
    "# from sklearn.preprocessing import StandardScaler\n",
    "import os\n",
    "os.chdir(r'c:\\users\\ermias.tadesse\\10x\\Oil-Price-Insights\\src\\data_analysis')\n",
    "from eda_utils import EDA\n",
    "\n",
    "os.chdir(r'c:\\users\\ermias.tadesse\\10x\\Oil-Price-Insights')  # Set the working directory to the project root\n",
    "# Load the Brent Oil Prices dataset\n",
    "file_path = 'Data/Raw/BrentOilPrices.csv'\n",
    "data = pd.read_csv(file_path)\n",
    "data['Date'] = pd.to_datetime(data['Date'], format='mixed')\n",
    "# data['Date'] = pd.to_datetime(data['Date'], format='%d-%b-%y')\n",
    "data.set_index('Date', inplace=True)\n",
    "data.head()"
   ]
  },
  {
   "cell_type": "markdown",
   "metadata": {},
   "source": [
    "## Exploratory Data Analysis (EDA)\n",
    "\n",
    "To begin the advanced analysis, we’ll perform EDA on the Brent oil prices dataset. This step includes:\n",
    "\n",
    "- Plotting historical trends in oil prices\n",
    "- Calculating moving averages to observe longer-term trends\n",
    "- Examining any seasonality or volatility in price data\n",
    "- Exploring correlations with other economic indicators (to be added later)\n"
   ]
  },
  {
   "cell_type": "code",
   "execution_count": null,
   "metadata": {},
   "outputs": [],
   "source": [
    "# Plotting Brent oil price over time to observe initial trends\n",
    "plt.figure(figsize=(14, 7))\n",
    "plt.plot(data.index, data['Price'], color='blue', label='Daily Brent Oil Price')\n",
    "plt.title(\"Historical Brent Oil Prices\")\n",
    "plt.xlabel(\"Date\")\n",
    "plt.ylabel(\"Price (USD)\")\n",
    "plt.legend()\n",
    "plt.show()"
   ]
  },
  {
   "cell_type": "markdown",
   "metadata": {},
   "source": [
    "### Calculating and Plotting Moving Average\n",
    "\n",
    "To observe the long-term trends in Brent oil prices, we will calculate a moving average. This helps smooth out daily fluctuations and highlights broader trends over time.\n"
   ]
  },
  {
   "cell_type": "code",
   "execution_count": null,
   "metadata": {},
   "outputs": [],
   "source": [
    "# Importing custom EDA utilities\n",
    "\n",
    "# Import the EDA class\n",
    "print(os.getcwd()) \n",
    "\n",
    "\n",
    "# Instantiate the EDA class with the data\n",
    "eda = EDA(data)\n",
    "\n",
    "# Plot the 30-day moving average using the class method\n",
    "eda.plot_moving_average(column='Price', window=30)\n"
   ]
  },
  {
   "cell_type": "markdown",
   "metadata": {},
   "source": [
    "### Seasonality and Volatility Analysis\n",
    "\n",
    "To gain further insights into the Brent oil prices, we’ll decompose the data into seasonal, trend, and residual components and examine its volatility. This analysis helps identify recurring patterns and measure price fluctuations over time."
   ]
  },
  {
   "cell_type": "code",
   "execution_count": null,
   "metadata": {},
   "outputs": [],
   "source": [
    "# Plot seasonal decomposition\n",
    "eda.plot_seasonal_decomposition(column='Price', period=365)\n",
    "\n",
    "# Plot volatility using a 30-day rolling window\n",
    "eda.plot_volatility(column='Price', window=30)\n"
   ]
  },
  {
   "cell_type": "markdown",
   "metadata": {},
   "source": [
    "### Event Data Integration and Correlation Analysis\n",
    "\n",
    "In this step, we integrate significant historical events with the Brent oil price data. This integration allows us to observe how these events correlate with price changes. Events include economic crises, conflicts, and other significant global occurrences."
   ]
  },
  {
   "cell_type": "code",
   "execution_count": null,
   "metadata": {},
   "outputs": [],
   "source": [
    "events_data = {\n",
    "    \"1986-08-01\": \"OPEC Production Cuts\",\n",
    "    \"1990-08-02\": \"Gulf War\",\n",
    "    \"1997-07-02\": \"Asian Financial Crisis\",\n",
    "    \"2001-09-11\": \"September 11 Attacks\",\n",
    "    \"2003-03-20\": \"Iraq War\",\n",
    "    \"2008-09-15\": \"Global Financial Crisis\",\n",
    "    \"2010-04-20\": \"Deepwater Horizon Oil Spill\",\n",
    "    \"2011-02-15\": \"Arab Spring\",\n",
    "    \"2014-06-01\": \"US Shale Boom\",\n",
    "    \"2014-11-27\": \"OPEC Decision to Maintain Production Levels\",\n",
    "    \"2016-01-16\": \"Iran Sanctions Lifted\",\n",
    "    \"2020-03-20\": \"COVID-19 Pandemic\",\n",
    "    \"2020-04-20\": \"Oil Price Crash\",\n",
    "    \"2021-07-01\": \"Supply Shock and Price Surge\",\n",
    "}\n",
    "\n",
    "# events_data = {\n",
    "#     \"2003-01-01\": \"Oil Price Boom\",\n",
    "#     \"2014-01-01\": \"Post-2014 Volatility\",\n",
    "#     \"2022-01-01\": \"2022 Predictions\",\n",
    "#     \"2008-09-15\": \"Global Financial Crisis\",\n",
    "#     \"2014-06-24\": \"Oil Price Drop\",\n",
    "#     \"2020-03-20\": \"COVID-19 Pandemic\",\n",
    "#     \"1990-08-02\": \"Gulf War\",\n",
    "#     \"1997-07-02\": \"Asian Financial Crisis\",\n",
    "#     \"2011-02-15\": \"Arab Spring\",\n",
    "#     \"2021-07-01\": \"Supply Shock and Price Surge\",\n",
    "#     \"1989-11-09\": \"Fall of the Berlin Wall\",\n",
    "#     \"2001-09-11\": \"Terrorist Attacks on US\",\n",
    "#     \"2003-03-20\": \"Invasion of Iraq by US Forces\",\n",
    "#     \"2005-08-29\": \"Hurricane Katrina impacts US oil production\",\n",
    "#     \"2008-07-11\": \"Record Oil Prices Hit $147 per Barrel\",\n",
    "#     \"2011-02-15\": \"Libyan Civil War disrupts oil exports\",\n",
    "#     \"2019-09-14\": \"Drone attack on Saudi oil facilities\",\n",
    "#     \"2020-04-20\": \"Oil price crash; WTI futures turn negative\",\n",
    "#     \"2022-02-24\": \"Russia invades Ukraine; oil prices spike\",\n",
    "#     \"1987-10-19\": \"Black Monday stock market crash\",\n",
    "#     \"1991-12-31\": \"End of the Soviet Union\",\n",
    "#     \"1998-08-05\": \"Asian Financial Crisis impacts oil prices\",\n",
    "#     \"2004-01-01\": \"OPEC agrees to production cuts\",\n",
    "#     \"2006-07-12\": \"Israel-Lebanon conflict affects oil prices\",\n",
    "#     \"2007-10-15\": \"OPEC maintains production quota\",\n",
    "#     \"2009-01-01\": \"OPEC production cuts continue\",\n",
    "#     \"2012-05-18\": \"Sanctions on Iran impact oil supply\",\n",
    "#     \"2014-06-24\": \"Geopolitical tensions in Iraq\",\n",
    "#     \"2015-11-30\": \"OPEC agrees to maintain production levels\",\n",
    "#     \"2016-11-30\": \"OPEC Agreement to Cut Production\",\n",
    "#     \"2017-01-20\": \"Trump inaugurated, affecting energy policies\",\n",
    "#     \"2020-11-09\": \"Pfizer announces COVID-19 vaccine efficacy\",\n",
    "#     \"2021-07-01\": \"OPEC+ agrees to gradually increase production\",\n",
    "# }"
   ]
  },
  {
   "cell_type": "code",
   "execution_count": null,
   "metadata": {},
   "outputs": [],
   "source": [
    "# Convert events_data to a DataFrame\n",
    "events_df = pd.DataFrame(list(events_data.items()), columns=['Date', 'Event'])\n",
    "events_df['Date'] = pd.to_datetime(events_df['Date'], format='%Y-%m-%d')\n",
    "\n",
    "# Merge event data without affecting the main data’s date range\n",
    "eda.merge_economic_data(events_df)\n",
    "\n",
    "# Plot the data with annotations for each event, ensuring full data range is displayed\n",
    "plt.figure(figsize=(14, 7))\n",
    "plt.plot(eda.data['Price'], label='Brent Oil Price')\n",
    "\n",
    "# Annotate key events with vertical lines and labels\n",
    "for date, event in events_data.items():\n",
    "    plt.axvline(pd.to_datetime(date), color='red', linestyle='--', alpha=0.6)\n",
    "    plt.text(pd.to_datetime(date), eda.data['Price'].max() * 0.95, event, rotation=90, color='red', fontsize=8)\n",
    "\n",
    "plt.title(\"Brent Oil Prices with Key Historical Events\")\n",
    "plt.xlabel(\"Date\")\n",
    "plt.ylabel(\"Price (USD)\")\n",
    "plt.legend()\n",
    "plt.show()"
   ]
  },
  {
   "cell_type": "markdown",
   "metadata": {},
   "source": [
    "### Event Impact Analysis\n",
    "\n",
    "To understand the effect of major events on Brent oil prices, we’ll calculate the percentage change in oil prices around each event date. This analysis will reveal the market’s response to each significant event."
   ]
  },
  {
   "cell_type": "code",
   "execution_count": null,
   "metadata": {},
   "outputs": [],
   "source": [
    "# Calculate and display the percentage change in price around each event\n",
    "event_impacts_df = eda.calculate_event_impact(events_data, window=30)\n",
    "\n",
    "# Display DataFrame to verify columns and data\n",
    "display(event_impacts_df.head())\n",
    "\n",
    "# Ensure that 'Event' and 'Percentage Change (%)' columns exist before plotting\n",
    "if 'Event' in event_impacts_df.columns and 'Percentage Change (%)' in event_impacts_df.columns:\n",
    "    # Plotting the percentage change for each event\n",
    "    plt.figure(figsize=(12, 8))\n",
    "    plt.bar(event_impacts_df['Event'], event_impacts_df['Percentage Change (%)'], color='skyblue')\n",
    "    plt.title(\"Impact of Events on Brent Oil Prices (Percentage Change)\")\n",
    "    plt.xlabel(\"Event\")\n",
    "    plt.ylabel(\"Percentage Change (%)\")\n",
    "    plt.xticks(rotation=90)\n",
    "    plt.show()\n",
    "else:\n",
    "    print(\"Expected columns 'Event' and 'Percentage Change (%)' not found in DataFrame.\")\n",
    "    "
   ]
  }
 ],
 "metadata": {
  "kernelspec": {
   "display_name": "venv",
   "language": "python",
   "name": "python3"
  },
  "language_info": {
   "codemirror_mode": {
    "name": "ipython",
    "version": 3
   },
   "file_extension": ".py",
   "mimetype": "text/x-python",
   "name": "python",
   "nbconvert_exporter": "python",
   "pygments_lexer": "ipython3",
   "version": "3.12.0"
  }
 },
 "nbformat": 4,
 "nbformat_minor": 2
}
