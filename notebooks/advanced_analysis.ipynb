{
 "cells": [
  {
   "cell_type": "markdown",
   "metadata": {},
   "source": [
    "# Task 2: Advanced Analysis of Brent Oil Prices\n",
    "\n",
    "In this notebook, we will apply advanced statistical and econometric models to analyze the historical Brent oil prices dataset. Building upon our previous insights, we aim to identify patterns, understand how various factors influence oil prices, and examine potential models for accurate forecasting. This analysis includes:\n",
    "\n",
    "- Advanced time series modeling (VAR, regime-switching models)\n",
    "- Economic indicators and their relationship with oil prices\n",
    "- LSTM-based models for detecting patterns in the data"
   ]
  },
  {
   "cell_type": "code",
   "execution_count": 8,
   "metadata": {},
   "outputs": [
    {
     "data": {
      "text/html": [
       "<div>\n",
       "<style scoped>\n",
       "    .dataframe tbody tr th:only-of-type {\n",
       "        vertical-align: middle;\n",
       "    }\n",
       "\n",
       "    .dataframe tbody tr th {\n",
       "        vertical-align: top;\n",
       "    }\n",
       "\n",
       "    .dataframe thead th {\n",
       "        text-align: right;\n",
       "    }\n",
       "</style>\n",
       "<table border=\"1\" class=\"dataframe\">\n",
       "  <thead>\n",
       "    <tr style=\"text-align: right;\">\n",
       "      <th></th>\n",
       "      <th>Price</th>\n",
       "    </tr>\n",
       "    <tr>\n",
       "      <th>Date</th>\n",
       "      <th></th>\n",
       "    </tr>\n",
       "  </thead>\n",
       "  <tbody>\n",
       "    <tr>\n",
       "      <th>1987-05-20</th>\n",
       "      <td>18.63</td>\n",
       "    </tr>\n",
       "    <tr>\n",
       "      <th>1987-05-21</th>\n",
       "      <td>18.45</td>\n",
       "    </tr>\n",
       "    <tr>\n",
       "      <th>1987-05-22</th>\n",
       "      <td>18.55</td>\n",
       "    </tr>\n",
       "    <tr>\n",
       "      <th>1987-05-25</th>\n",
       "      <td>18.60</td>\n",
       "    </tr>\n",
       "    <tr>\n",
       "      <th>1987-05-26</th>\n",
       "      <td>18.63</td>\n",
       "    </tr>\n",
       "  </tbody>\n",
       "</table>\n",
       "</div>"
      ],
      "text/plain": [
       "            Price\n",
       "Date             \n",
       "1987-05-20  18.63\n",
       "1987-05-21  18.45\n",
       "1987-05-22  18.55\n",
       "1987-05-25  18.60\n",
       "1987-05-26  18.63"
      ]
     },
     "execution_count": 8,
     "metadata": {},
     "output_type": "execute_result"
    }
   ],
   "source": [
    "# Importing essential libraries for Task 2 analysis\n",
    "import pandas as pd\n",
    "import numpy as np\n",
    "import matplotlib.pyplot as plt\n",
    "import seaborn as sns\n",
    "from statsmodels.tsa.api import VAR\n",
    "# from sklearn.preprocessing import StandardScaler\n",
    "import os\n",
    "os.chdir(r'c:\\users\\ermias.tadesse\\10x\\Oil-Price-Insights')  # Set the working directory to the project root\n",
    "\n",
    "# Load the Brent Oil Prices dataset\n",
    "file_path = 'Data/Raw/BrentOilPrices.csv'\n",
    "data = pd.read_csv(file_path)\n",
    "data['Date'] = pd.to_datetime(data['Date'], format='mixed')\n",
    "# data['Date'] = pd.to_datetime(data['Date'], format='%d-%b-%y')\n",
    "data.set_index('Date', inplace=True)\n",
    "data.head()"
   ]
  },
  {
   "cell_type": "markdown",
   "metadata": {},
   "source": [
    "## Exploratory Data Analysis (EDA)\n",
    "\n",
    "To begin the advanced analysis, we’ll perform EDA on the Brent oil prices dataset. This step includes:\n",
    "\n",
    "- Plotting historical trends in oil prices\n",
    "- Calculating moving averages to observe longer-term trends\n",
    "- Examining any seasonality or volatility in price data\n",
    "- Exploring correlations with other economic indicators (to be added later)\n"
   ]
  },
  {
   "cell_type": "code",
   "execution_count": null,
   "metadata": {},
   "outputs": [
    {
     "ename": "ModuleNotFoundError",
     "evalue": "No module named 'eda_utils'",
     "output_type": "error",
     "traceback": [
      "\u001b[1;31m---------------------------------------------------------------------------\u001b[0m",
      "\u001b[1;31mModuleNotFoundError\u001b[0m                       Traceback (most recent call last)",
      "Cell \u001b[1;32mIn[11], line 4\u001b[0m\n\u001b[0;32m      2\u001b[0m \u001b[38;5;28;01mimport\u001b[39;00m \u001b[38;5;21;01msys\u001b[39;00m\n\u001b[0;32m      3\u001b[0m sys\u001b[38;5;241m.\u001b[39mpath\u001b[38;5;241m.\u001b[39mappend(\u001b[38;5;124m'\u001b[39m\u001b[38;5;124m../src/data_analysis\u001b[39m\u001b[38;5;124m'\u001b[39m)\n\u001b[1;32m----> 4\u001b[0m \u001b[38;5;28;01mfrom\u001b[39;00m \u001b[38;5;21;01meda_utils\u001b[39;00m \u001b[38;5;28;01mimport\u001b[39;00m plot_time_series, calculate_moving_average\n\u001b[0;32m      6\u001b[0m \u001b[38;5;66;03m# Plotting Brent oil price over time to observe initial trends\u001b[39;00m\n\u001b[0;32m      7\u001b[0m plt\u001b[38;5;241m.\u001b[39mfigure(figsize\u001b[38;5;241m=\u001b[39m(\u001b[38;5;241m14\u001b[39m, \u001b[38;5;241m7\u001b[39m))\n",
      "\u001b[1;31mModuleNotFoundError\u001b[0m: No module named 'eda_utils'"
     ]
    }
   ],
   "source": [
    "# Importing custom EDA utilities\n",
    "os.chdir(r'c:\\users\\ermias.tadesse\\10x\\Oil-Price-Insights\\src\\data_analysis')\n",
    "from eda_utils import plot_time_series, calculate_moving_average\n",
    "\n",
    "# Plotting Brent oil price over time to observe initial trends\n",
    "plt.figure(figsize=(14, 7))\n",
    "plt.plot(data.index, data['Price'], color='blue', label='Daily Brent Oil Price')\n",
    "plt.title(\"Historical Brent Oil Prices\")\n",
    "plt.xlabel(\"Date\")\n",
    "plt.ylabel(\"Price (USD)\")\n",
    "plt.legend()\n",
    "plt.show()\n"
   ]
  }
 ],
 "metadata": {
  "kernelspec": {
   "display_name": "venv",
   "language": "python",
   "name": "python3"
  },
  "language_info": {
   "codemirror_mode": {
    "name": "ipython",
    "version": 3
   },
   "file_extension": ".py",
   "mimetype": "text/x-python",
   "name": "python",
   "nbconvert_exporter": "python",
   "pygments_lexer": "ipython3",
   "version": "3.12.0"
  }
 },
 "nbformat": 4,
 "nbformat_minor": 2
}
